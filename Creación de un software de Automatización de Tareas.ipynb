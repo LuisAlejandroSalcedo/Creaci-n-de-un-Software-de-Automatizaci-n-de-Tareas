{
 "cells": [
  {
   "cell_type": "markdown",
   "metadata": {},
   "source": [
    "# Creación de un Software de Automatización de Tareas\n",
    "\n",
    "Hola amigos de Mi Diario Python, les doy nuevamente las bienvenidas a nuestra bonita comunidad. Mi nombre es Luis ycomo siempre es un placer estar escribiendo esto para todos ustedes.\n",
    "\n",
    "En el articulo de hoy, tocaremos un tema cuya importancia en el area de la programación es mucha. La Progrmaación  Orientada a Objetos.\n",
    "\n",
    "Mi objetivo en este articulo es guiarlos y mostrarles los pasos para crear un pequeño software que nos permita automatizar funciones de n uestro ordenar. Con esto me refiero a que podremos realizar un script el cual pueda mover el mouse por si solo. Tambien crearemos funciones para el teclado. ¿Que te parece?.\n",
    "\n",
    "Todos sabemos que existen muchas librerias que realizan estas funciones. Pero realizar el nuestro, nos ayudara a fortalecer nuestro conocimientos, y por supuesto, no hay nada más satisfactorio que utilizar nuestras propias herramnientas.\n",
    "\n",
    "Antes de comenzar quisiera aclarar algunas cosas: Lo primero es que los pasos y funciones que realizaremos hoy estaran orientadas a usuario que utilizen Windows, esto se debe a que haremos uso de la libreria \"win32\", la cual nos permite interactuar con el sistema operativo. Otra cosa quiero aclarar, es que en este articulo no proundizare muchos en los detalles de la Programación Orientada a Objeto ni a principios basicos del Lenguaje Python ya que en este blog tenemos muy buenos articulos para Aprender Python, así que te sugiero que le heches un vistazo.\n",
    "\n",
    "# Win32\n",
    "\n",
    "Win32 es una libreria para Python que nos permite interactuar y manipular funciones de sistema operativo Windows. Tiene muchos metodos y funciones que debes conocer. Win32 tiene funciones para manipular archivos, conecciones de redes, seguridad del sistema y muchas otras más.\n",
    "\n",
    "Puedes adquirir win32 ingresando al siguiente enlace: \n",
    "\n",
    "Win32 sera el unico recurso externo que utilizaremos el dia de hoy. Win32 tiene un modulo llamado \"Win32api\", el cual tiene una gran variedad de funciones y metodos, desde obtener la fecha local del equipo, hasta definir variables de entorno. Esta libreria nos permite conocer a fondo el equipo en el que se trabaja, incluyendo conocer la posición del cursor, definir su posición y saber el estado del teclado. Así que por esta razon la utilizaremos para realizar el proyecto de hoy.\n",
    "\n",
    "# WindowsBot\n",
    "\n",
    "WindowsBot sera el nombre del proyecto ¿Que les parece?.\n",
    "\n",
    "Perfecto, ya podemos empezar con el proyecto. Lo primero que haremos sera abrir nuestro editor de texto preferido y crear un nuevo archivo. Yo trabajare de la siguiente manera: Creare una carpeta llamada WindowsBot y en ella creare un nuevo directorio llamado \"winbot\", en este directorio escribire los archivos de nuestro nuevo modulo. Así que yo trabajara en \"WindowsBot/winbot\", es aqui en donde escribiremos nuestras clases y metodos, luego podremos crear scripts de prueba que importen los arhcivos de este directorio.\n",
    "\n",
    "No se si me explique bien, pero si tienes alguna duda sabes que puedes dejar tu comentario.\n",
    "\n",
    "Mu bien, si tienen experiencia con lo de la Programación Orientada a Objetos sabran que si un modulo sin el arhcivo \"__init__.py\" no es un modulo. ¿Que es el archivo \"__init__\"? Este script, sera ejecutara cada vez que el modulo sea importado desde un script, así que pueden verlo como una función que se ejecutara cada vez que se use \"import winbot\" en un script de python."
   ]
  },
  {
   "cell_type": "code",
   "execution_count": 1,
   "metadata": {},
   "outputs": [
    {
     "name": "stdout",
     "output_type": "stream",
     "text": [
      "Modulo importado exitosamente\n"
     ]
    }
   ],
   "source": [
    "# winbot/__init__.py\n",
    "\n",
    "print(\"Modulo importado exitosamente\")"
   ]
  },
  {
   "cell_type": "markdown",
   "metadata": {},
   "source": [
    "Por ahora, dejaremos al arhcivo \"__init__.py\" con una simple función print, luego volveremos a este archivo.\n",
    "\n",
    "Este arhcivo especial, nunca puede faltar en la creación de un modulo, podrias dejarlo vacio y todo iria bien, pero siempre debe de haber un arhcivo \"__init__.py\" en el lugar de trabajo.\n",
    "\n",
    "prosigamos. Lo que haremos ahora sera crear el arhcivo \"windows.py\". En el escribiremos las clases y metodos que les permitiran manipular las funciones del cursor y el teclado del ordenador a cualquiera que importe este modulo:"
   ]
  },
  {
   "cell_type": "code",
   "execution_count": 2,
   "metadata": {},
   "outputs": [],
   "source": [
    "# winbot/windows.py\n",
    "\n",
    "# Comencemos importanod las librerias necesarias\n",
    "# Lo modulos win32 nos permitiran interactuar con el Sistema Operativo\n",
    "import win32api\n",
    "import win32con\n",
    "\n",
    "class MouseBot():\n",
    "    \"\"\"\n",
    "    Definimos la clase principal, en mi caso la he llamado MosueBot. En ella escribiremos los metodos\n",
    "    para la manipulación del cursor.\n",
    "    \"\"\"\n",
    "    \n",
    "    \n",
    "    \"\"\" \n",
    "    Definimos el metodo __init__ el cual tiene el mismo proposito que el archivo __init__.py.\n",
    "    Es recomendable siempre definir este metodo, aunque este vacio.\n",
    "    \n",
    "    \"\"\"\n",
    "    def __init__(self):\n",
    "        # __init__ se llamara la crearse una instancia de la clase MouseBot\n",
    "        print(\"MouseBot se ha inicializado con exito\")\n",
    "        \n",
    "    def getPosition(self):\n",
    "        \"\"\"\n",
    "        El metodo getPosition retornara la posición actual del cursor.\n",
    "        Para ello utilizaremos la función GetCursorPos de win32api.\n",
    "        \"\"\"\n",
    "        pos = win32api.GetCursorPos()\n",
    "        return pos\n",
    "\n",
    "    \n",
    "    def move(self, x, y):\n",
    "        \"\"\"\n",
    "        El metodo move cambiara la posición del cursor con respecto asu eje x e y.\n",
    "        \"\"\"\n",
    "        NewPos = [x, y]\n",
    "        win32api.SetCursorPos(NewPos) # Como pueden observar la nueva posicion se debe entregar en una lista\n",
    "        \n",
    "    def click(self, button):\n",
    "        \"\"\"\n",
    "        El valor de \"button\" dependera de que boton del mouse quieres que se accione.\n",
    "        1 = Boton Izquierdo\n",
    "        2 = Boton Derecho\n",
    "        \n",
    "        Vemos que utilizamos el metodo getPosition para decirle en que posición el mouse hara click.\n",
    "        En este caso, sera en la posición en la que se encuantre el cursor\n",
    "        \"\"\"\n",
    "        clickAction = 2 ** ((2 * button) - 1)\n",
    "        x = self.getPosition()[0] \n",
    "        y = self.getPosition()[1]\n",
    "        win32api.mouse_event(clickAction, x, y)\n",
    "        \n",
    "    def scroll(self, vertical=None, horizontal=None):\n",
    "        \"\"\"\n",
    "        El metodo scrool le dara funcionamiento al scroll del mouse.\n",
    "        Como pueden apreciar recibe dos argumento: vertical para que el scroll suba o baje.\n",
    "        horizontal para que se mueva hacia los lados.\n",
    "        \"\"\"\n",
    "        if horizontal is not None:\n",
    "            horizontal = int(horizontal)\n",
    "            if horizontal == 0:  # Si horizontal es igual a 0 no pasara nada\n",
    "                pass\n",
    "            elif horizontal > 0:  # Scroll hacia la derecha si es positivo\n",
    "                for _ in range(horizontal):\n",
    "                    win32api.mouse_event(0x01000, 0, 0, 120, 0)\n",
    "            else:  # Scroll hacia la izquierda si es negativo\n",
    "                for _ in range(abs(horizontal)):\n",
    "                    win32api.mouse_event(0x01000, 0, 0, -120, 0)\n",
    "        \n",
    "        if vertical is not None:\n",
    "            vertical = int(vertical)\n",
    "            if vertical == 0: # Si vertical tiene valor de 0 no pasara nada\n",
    "                pass\n",
    "            elif vertical > 0:  # Scroll sube si es positivo\n",
    "                for _ in range(vertical):\n",
    "                    win32api.mouse_event(0x0800, 0, 0, 120, 0)\n",
    "            else:  # Scroll baja si es negativo\n",
    "                for _ in range(abs(vertical)):\n",
    "                    win32api.mouse_event(0x0800, 0, 0, -120, 0)\n",
    "    \n",
    "    "
   ]
  },
  {
   "cell_type": "markdown",
   "metadata": {},
   "source": [
    "Bueno, hemos declarado muchos metodos no les parece?. Que tal si probamos el funcionamiento de los metodos previamente definidos?.\n",
    "\n",
    "Pero antes, quiero mostrarles una cosa, para ello dirijamonos a el archivo \"__init__.py\"."
   ]
  },
  {
   "cell_type": "code",
   "execution_count": 3,
   "metadata": {},
   "outputs": [
    {
     "name": "stdout",
     "output_type": "stream",
     "text": [
      "Modulo importado exitosamente\n"
     ]
    },
    {
     "ename": "ModuleNotFoundError",
     "evalue": "No module named '__main__.windows'; '__main__' is not a package",
     "output_type": "error",
     "traceback": [
      "\u001b[1;31m----------------------------------------------------------------------\u001b[0m",
      "\u001b[1;31mModuleNotFoundError\u001b[0m                  Traceback (most recent call last)",
      "\u001b[1;32m<ipython-input-3-d925c040cea8>\u001b[0m in \u001b[0;36m<module>\u001b[1;34m()\u001b[0m\n\u001b[0;32m      5\u001b[0m \u001b[1;31m# Le indicamos que al moemnto de importar el modulo winbot, queremos que se importe la clase MouseBot de windows.py\u001b[0m\u001b[1;33m\u001b[0m\u001b[1;33m\u001b[0m\u001b[0m\n\u001b[0;32m      6\u001b[0m \u001b[1;31m# Esto nos evitara tener que escribir el nombre del archivo \"windows.py\" cada vez que utilizemos la clase MouseBot\u001b[0m\u001b[1;33m\u001b[0m\u001b[1;33m\u001b[0m\u001b[0m\n\u001b[1;32m----> 7\u001b[1;33m \u001b[1;32mfrom\u001b[0m \u001b[1;33m.\u001b[0m\u001b[0mwindows\u001b[0m \u001b[1;32mimport\u001b[0m \u001b[0mMouseBot\u001b[0m\u001b[1;33m\u001b[0m\u001b[0m\n\u001b[0m",
      "\u001b[1;31mModuleNotFoundError\u001b[0m: No module named '__main__.windows'; '__main__' is not a package"
     ]
    }
   ],
   "source": [
    "# winbot/__init__.py\n",
    "\n",
    "print(\"Modulo importado exitosamente\")\n",
    "\n",
    "# Le indicamos que al moemnto de importar el modulo winbot, queremos que se importe la clase MouseBot de windows.py\n",
    "# Esto nos evitara tener que escribir el nombre del archivo \"windows.py\" cada vez que utilizemos la clase MouseBot\n",
    "from .windows import MouseBot"
   ]
  },
  {
   "cell_type": "markdown",
   "metadata": {},
   "source": [
    "Lo que hare sera salir de la carpeta winbot y crear el archivo \"winbot_test.py\" en el cual probare las funciones de la clase MouseBot."
   ]
  },
  {
   "cell_type": "code",
   "execution_count": 4,
   "metadata": {},
   "outputs": [
    {
     "name": "stdout",
     "output_type": "stream",
     "text": [
      "Modulo importado exitosamente\n"
     ]
    }
   ],
   "source": [
    "# winbot_test.py\n",
    "\n",
    "import winbot"
   ]
  },
  {
   "cell_type": "markdown",
   "metadata": {},
   "source": [
    "Muy bien, como pueden observar, al importar el modulo \"winbot\" se nos muestra el mensaje escrito anteriormente. No simpre importas un modulo y te aparece un mensaje así, No es cierto?."
   ]
  },
  {
   "cell_type": "code",
   "execution_count": 5,
   "metadata": {},
   "outputs": [
    {
     "name": "stdout",
     "output_type": "stream",
     "text": [
      "MouseBot se ha inicializado con exito\n",
      "['__class__', '__delattr__', '__dict__', '__dir__', '__doc__', '__eq__', '__format__', '__ge__', '__getattribute__', '__gt__', '__hash__', '__init__', '__init_subclass__', '__le__', '__lt__', '__module__', '__ne__', '__new__', '__reduce__', '__reduce_ex__', '__repr__', '__setattr__', '__sizeof__', '__str__', '__subclasshook__', '__weakref__', 'click', 'getPosition', 'move', 'scroll']\n"
     ]
    }
   ],
   "source": [
    "# winbot_test.py\n",
    "\n",
    "import winbot\n",
    "\n",
    "bot = winbot.MouseBot()\n",
    "\n",
    "print(dir(bot))\n",
    "\n",
    "poscursor = bot.getPosition() # posición del cursor\n",
    "bot.move(145,43) # mover El cursro\n",
    "bot.click(1) # Hacer Click en el boton izquierdo del mouse\n",
    "bot.scroll(vertical=-10)"
   ]
  },
  {
   "cell_type": "markdown",
   "metadata": {},
   "source": [
    "Como pueden observar, se nos muestra un mensaje indicandonos que la calse MouseBot se ha inicializado con exito. Luego se nos muestran los metodos que posee nuestra clase. Por desgracia no puedo mostrarles lo que la clase es capaz de hacer, pero ustedes mismos pueden realizar este proyecto y ver el resultado directamnete desde tu computador.\n",
    "\n",
    "Bueno, creo que dejare el articulo hasta aquí y lo finalizaremos luego.\n",
    "\n",
    "¿Crees que le hace falta lago al modulo? ¿Que le cambiarias? Quiero que me dejes tu comentario dandonos tu opinion.\n",
    "\n",
    "No te pierdas el proximo articulo en el cual acabaremos el proyecto.\n",
    "\n",
    "Mi nombre es Luis, y fue un placer compartir mis conocimento con todos ustedes :D."
   ]
  }
 ],
 "metadata": {
  "kernelspec": {
   "display_name": "Python 3",
   "language": "python",
   "name": "python3"
  },
  "language_info": {
   "codemirror_mode": {
    "name": "ipython",
    "version": 3
   },
   "file_extension": ".py",
   "mimetype": "text/x-python",
   "name": "python",
   "nbconvert_exporter": "python",
   "pygments_lexer": "ipython3",
   "version": "3.6.4"
  }
 },
 "nbformat": 4,
 "nbformat_minor": 2
}
